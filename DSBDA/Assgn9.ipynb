{
  "nbformat": 4,
  "nbformat_minor": 0,
  "metadata": {
    "colab": {
      "provenance": [],
      "authorship_tag": "ABX9TyNuSb2jRNP8TfALEWUXoxjE",
      "include_colab_link": true
    },
    "kernelspec": {
      "name": "python3",
      "display_name": "Python 3"
    },
    "language_info": {
      "name": "python"
    }
  },
  "cells": [
    {
      "cell_type": "markdown",
      "metadata": {
        "id": "view-in-github",
        "colab_type": "text"
      },
      "source": [
        "<a href=\"https://colab.research.google.com/github/TechyMT/ClassWork/blob/main/DSBDA/Assgn9.ipynb\" target=\"_parent\"><img src=\"https://colab.research.google.com/assets/colab-badge.svg\" alt=\"Open In Colab\"/></a>"
      ]
    },
    {
      "cell_type": "markdown",
      "source": [
        "# Data Analytics 2\n",
        "Implement logistic regression using Python/R to perform classification on Social_Network_Ads.csv dataset.\n",
        "\n",
        "Compute Confusion matrix to find TP, FP, TN, FN, Accuracy, Error rate, Precision, Recall on the given dataset"
      ],
      "metadata": {
        "id": "OfCgNjAaWuOQ"
      }
    },
    {
      "cell_type": "code",
      "source": [
        "!pip install recall"
      ],
      "metadata": {
        "colab": {
          "base_uri": "https://localhost:8080/"
        },
        "id": "ax4mb8NVk0lp",
        "outputId": "d3f1d38b-b247-44f5-8f22-d0e5bb485afd"
      },
      "execution_count": 137,
      "outputs": [
        {
          "output_type": "stream",
          "name": "stdout",
          "text": [
            "Requirement already satisfied: recall in /usr/local/lib/python3.10/dist-packages (0.2.1)\n",
            "Requirement already satisfied: gevent in /usr/local/lib/python3.10/dist-packages (from recall) (24.2.1)\n",
            "Requirement already satisfied: protobuf>=2.3 in /usr/local/lib/python3.10/dist-packages (from recall) (3.20.3)\n",
            "Requirement already satisfied: zope.event in /usr/local/lib/python3.10/dist-packages (from gevent->recall) (5.0)\n",
            "Requirement already satisfied: zope.interface in /usr/local/lib/python3.10/dist-packages (from gevent->recall) (6.3)\n",
            "Requirement already satisfied: greenlet>=2.0.0 in /usr/local/lib/python3.10/dist-packages (from gevent->recall) (3.0.3)\n",
            "Requirement already satisfied: setuptools in /usr/local/lib/python3.10/dist-packages (from zope.event->gevent->recall) (67.7.2)\n"
          ]
        }
      ]
    },
    {
      "cell_type": "code",
      "execution_count": 138,
      "metadata": {
        "id": "ZRyj_gIZWsQD"
      },
      "outputs": [],
      "source": [
        "import pandas as pd\n",
        "import numpy as np\n",
        "import seaborn as sns\n",
        "import matplotlib.pyplot as plt\n",
        "from sklearn.preprocessing import LabelEncoder, StandardScaler\n",
        "from sklearn.model_selection import train_test_split\n",
        "from sklearn.linear_model import LogisticRegression\n",
        "from sklearn.metrics import accuracy_score, r2_score, mean_absolute_error, confusion_matrix, ConfusionMatrixDisplay, classification_report"
      ]
    },
    {
      "cell_type": "code",
      "source": [
        "df = pd.read_csv(\"/content/Social_Network_Ads.csv\")"
      ],
      "metadata": {
        "id": "O_Zbu3acaBoo"
      },
      "execution_count": 139,
      "outputs": []
    },
    {
      "cell_type": "code",
      "source": [
        "print(df.shape)\n",
        "print(df.head())"
      ],
      "metadata": {
        "colab": {
          "base_uri": "https://localhost:8080/"
        },
        "id": "gmUsIhUTajhN",
        "outputId": "d6e9ef32-c8f9-4556-a488-cb53fc5e6aa6"
      },
      "execution_count": 140,
      "outputs": [
        {
          "output_type": "stream",
          "name": "stdout",
          "text": [
            "(400, 5)\n",
            "    User ID  Gender  Age  EstimatedSalary  Purchased\n",
            "0  15624510    Male   19            19000          0\n",
            "1  15810944    Male   35            20000          0\n",
            "2  15668575  Female   26            43000          0\n",
            "3  15603246  Female   27            57000          0\n",
            "4  15804002    Male   19            76000          0\n"
          ]
        }
      ]
    },
    {
      "cell_type": "code",
      "source": [
        "df.info()"
      ],
      "metadata": {
        "colab": {
          "base_uri": "https://localhost:8080/"
        },
        "id": "LJjjqPlFam4m",
        "outputId": "b7d9f16d-6e97-4a11-d440-af2dabbdebce"
      },
      "execution_count": 141,
      "outputs": [
        {
          "output_type": "stream",
          "name": "stdout",
          "text": [
            "<class 'pandas.core.frame.DataFrame'>\n",
            "RangeIndex: 400 entries, 0 to 399\n",
            "Data columns (total 5 columns):\n",
            " #   Column           Non-Null Count  Dtype \n",
            "---  ------           --------------  ----- \n",
            " 0   User ID          400 non-null    int64 \n",
            " 1   Gender           400 non-null    object\n",
            " 2   Age              400 non-null    int64 \n",
            " 3   EstimatedSalary  400 non-null    int64 \n",
            " 4   Purchased        400 non-null    int64 \n",
            "dtypes: int64(4), object(1)\n",
            "memory usage: 15.8+ KB\n"
          ]
        }
      ]
    },
    {
      "cell_type": "code",
      "source": [
        "df.dtypes"
      ],
      "metadata": {
        "colab": {
          "base_uri": "https://localhost:8080/"
        },
        "id": "xHsO9emebpGi",
        "outputId": "7ffcffc5-3012-4151-8dc3-68bb08222a36"
      },
      "execution_count": 142,
      "outputs": [
        {
          "output_type": "execute_result",
          "data": {
            "text/plain": [
              "User ID             int64\n",
              "Gender             object\n",
              "Age                 int64\n",
              "EstimatedSalary     int64\n",
              "Purchased           int64\n",
              "dtype: object"
            ]
          },
          "metadata": {},
          "execution_count": 142
        }
      ]
    },
    {
      "cell_type": "code",
      "source": [
        "df.isnull().sum()"
      ],
      "metadata": {
        "colab": {
          "base_uri": "https://localhost:8080/"
        },
        "id": "Yf0hi3TkaoOj",
        "outputId": "80384d59-8b6c-4852-a44e-a2ff2256d0c5"
      },
      "execution_count": 143,
      "outputs": [
        {
          "output_type": "execute_result",
          "data": {
            "text/plain": [
              "User ID            0\n",
              "Gender             0\n",
              "Age                0\n",
              "EstimatedSalary    0\n",
              "Purchased          0\n",
              "dtype: int64"
            ]
          },
          "metadata": {},
          "execution_count": 143
        }
      ]
    },
    {
      "cell_type": "code",
      "source": [
        "sns.boxplot(data =df, x=df[\"Age\"])"
      ],
      "metadata": {
        "colab": {
          "base_uri": "https://localhost:8080/",
          "height": 466
        },
        "id": "ug6GsU1_bge5",
        "outputId": "0c45bebe-3309-47c6-bd51-ea61cae5ec28"
      },
      "execution_count": 144,
      "outputs": [
        {
          "output_type": "execute_result",
          "data": {
            "text/plain": [
              "<Axes: xlabel='Age'>"
            ]
          },
          "metadata": {},
          "execution_count": 144
        },
        {
          "output_type": "display_data",
          "data": {
            "text/plain": [
              "<Figure size 640x480 with 1 Axes>"
            ],
            "image/png": "[encoded data removed]"
          },
          "metadata": {}
        }
      ]
    },
    {
      "cell_type": "code",
      "source": [
        "sns.boxplot(data=df, x=df[\"EstimatedSalary\"])"
      ],
      "metadata": {
        "colab": {
          "base_uri": "https://localhost:8080/",
          "height": 466
        },
        "id": "wi8GBrM5bix1",
        "outputId": "d61c32c3-bf84-4f05-ab8e-8679708feff5"
      },
      "execution_count": 145,
      "outputs": [
        {
          "output_type": "execute_result",
          "data": {
            "text/plain": [
              "<Axes: xlabel='EstimatedSalary'>"
            ]
          },
          "metadata": {},
          "execution_count": 145
        },
        {
          "output_type": "display_data",
          "data": {
            "text/plain": [
              "<Figure size 640x480 with 1 Axes>"
            ],
            "image/png": "[encoded data removed]"
          },
          "metadata": {}
        }
      ]
    },
    {
      "cell_type": "code",
      "source": [
        "sns.countplot(data =df, x=df[\"Age\"], hue=\"Purchased\")"
      ],
      "metadata": {
        "colab": {
          "base_uri": "https://localhost:8080/",
          "height": 466
        },
        "id": "8A0UJgxGcRlh",
        "outputId": "17d20fd5-448b-4717-ab1b-802d35eabcd5"
      },
      "execution_count": 146,
      "outputs": [
        {
          "output_type": "execute_result",
          "data": {
            "text/plain": [
              "<Axes: xlabel='Age', ylabel='count'>"
            ]
          },
          "metadata": {},
          "execution_count": 146
        },
        {
          "output_type": "display_data",
          "data": {
            "text/plain": [
              "<Figure size 640x480 with 1 Axes>"
            ],
            "image/png": "[encoded data removed]"
          },
          "metadata": {}
        }
      ]
    },
    {
      "cell_type": "code",
      "source": [
        "label_encoder = LabelEncoder()\n",
        "\n",
        "df[\"Gender\"] = label_encoder.fit_transform(df[\"Gender\"])\n",
        "df.dtypes"
      ],
      "metadata": {
        "colab": {
          "base_uri": "https://localhost:8080/"
        },
        "id": "zGQH3CcJcc6o",
        "outputId": "b8cef6ff-97a7-4384-e12e-5603d1d1f93c"
      },
      "execution_count": 147,
      "outputs": [
        {
          "output_type": "execute_result",
          "data": {
            "text/plain": [
              "User ID            int64\n",
              "Gender             int64\n",
              "Age                int64\n",
              "EstimatedSalary    int64\n",
              "Purchased          int64\n",
              "dtype: object"
            ]
          },
          "metadata": {},
          "execution_count": 147
        }
      ]
    },
    {
      "cell_type": "code",
      "source": [
        "df[\"Age\"].value_counts()"
      ],
      "metadata": {
        "colab": {
          "base_uri": "https://localhost:8080/"
        },
        "id": "uLruu5lzeLLR",
        "outputId": "9ca12244-1f0e-4ad6-e42e-641579bc8bea"
      },
      "execution_count": 148,
      "outputs": [
        {
          "output_type": "execute_result",
          "data": {
            "text/plain": [
              "Age\n",
              "35    32\n",
              "37    20\n",
              "26    16\n",
              "41    16\n",
              "42    16\n",
              "39    15\n",
              "40    15\n",
              "48    14\n",
              "47    14\n",
              "27    13\n",
              "38    13\n",
              "28    12\n",
              "36    12\n",
              "46    12\n",
              "31    11\n",
              "30    11\n",
              "49    10\n",
              "29    10\n",
              "33     9\n",
              "32     9\n",
              "24     9\n",
              "59     7\n",
              "19     7\n",
              "45     7\n",
              "20     7\n",
              "60     7\n",
              "34     6\n",
              "23     6\n",
              "52     6\n",
              "25     6\n",
              "58     6\n",
              "53     5\n",
              "57     5\n",
              "22     5\n",
              "18     5\n",
              "21     4\n",
              "50     4\n",
              "54     4\n",
              "55     3\n",
              "56     3\n",
              "51     3\n",
              "43     3\n",
              "44     2\n",
              "Name: count, dtype: int64"
            ]
          },
          "metadata": {},
          "execution_count": 148
        }
      ]
    },
    {
      "cell_type": "code",
      "source": [
        "df[\"EstimatedSalary\"].value_counts()"
      ],
      "metadata": {
        "colab": {
          "base_uri": "https://localhost:8080/"
        },
        "id": "vxlHSYTneOgk",
        "outputId": "f19d6a6e-afb1-4017-b235-4575cfd2005c"
      },
      "execution_count": 149,
      "outputs": [
        {
          "output_type": "execute_result",
          "data": {
            "text/plain": [
              "EstimatedSalary\n",
              "72000     12\n",
              "80000     11\n",
              "79000     10\n",
              "75000      9\n",
              "71000      9\n",
              "          ..\n",
              "123000     1\n",
              "37000      1\n",
              "115000     1\n",
              "148000     1\n",
              "139000     1\n",
              "Name: count, Length: 117, dtype: int64"
            ]
          },
          "metadata": {},
          "execution_count": 149
        }
      ]
    },
    {
      "cell_type": "code",
      "source": [
        "def normalise_data(feature):\n",
        "  global df\n",
        "  df[feature] = (df[feature] - df[feature].min()) / (df[feature].max() - df[feature].min())\n",
        "\n",
        "normalise_data(\"EstimatedSalary\")\n"
      ],
      "metadata": {
        "id": "I8W08UVkdfzu"
      },
      "execution_count": 150,
      "outputs": []
    },
    {
      "cell_type": "code",
      "source": [
        "corr = df.corr()\n",
        "\n",
        "sns.heatmap(data =corr, annot = True)"
      ],
      "metadata": {
        "colab": {
          "base_uri": "https://localhost:8080/",
          "height": 552
        },
        "id": "05vwFg8zeVy_",
        "outputId": "bb9ca9b6-c80d-429d-e5d7-21333157a312"
      },
      "execution_count": 151,
      "outputs": [
        {
          "output_type": "execute_result",
          "data": {
            "text/plain": [
              "<Axes: >"
            ]
          },
          "metadata": {},
          "execution_count": 151
        },
        {
          "output_type": "display_data",
          "data": {
            "text/plain": [
              "<Figure size 640x480 with 2 Axes>"
            ],
            "image/png": "[encoded data removed]"
          },
          "metadata": {}
        }
      ]
    },
    {
      "cell_type": "code",
      "source": [
        "X = df.drop([\"User ID\", \"Purchased\"], axis = 1)\n",
        "y = df[\"Purchased\"]\n",
        "\n",
        "X_train, X_test, y_train, y_test = train_test_split(X,y ,test_size = 0.2, random_state= 42)\n"
      ],
      "metadata": {
        "id": "BRDX7KJie_7A"
      },
      "execution_count": 152,
      "outputs": []
    },
    {
      "cell_type": "code",
      "source": [
        "scaler = StandardScaler()\n",
        "\n",
        "\n",
        "X_train = scaler.fit_transform(X_train)\n",
        "X_test = scaler.fit_transform(X_test)\n",
        "\n",
        "\n",
        "model = LogisticRegression().fit(X_train, y_train)\n",
        "\n",
        "y_pred = model.predict(X_test)\n",
        "\n",
        "matrix = confusion_matrix(y_test, y_pred, labels=model.classes_)\n",
        "print(matrix)\n",
        "\n",
        "tp, fn, fp, tn = confusion_matrix(y_test, y_pred, labels=[1,0]).reshape(-1)\n",
        "\n",
        "conf_matrix = ConfusionMatrixDisplay(confusion_matrix = matrix, display_labels= model.classes_)\n",
        "conf_matrix.plot(cmap = \"Blues\")\n",
        "\n"
      ],
      "metadata": {
        "colab": {
          "base_uri": "https://localhost:8080/",
          "height": 501
        },
        "id": "qCMo6ys9faBF",
        "outputId": "f0681b49-7845-4b14-9833-255586d2b770"
      },
      "execution_count": 153,
      "outputs": [
        {
          "output_type": "stream",
          "name": "stdout",
          "text": [
            "[[49  3]\n",
            " [ 7 21]]\n"
          ]
        },
        {
          "output_type": "execute_result",
          "data": {
            "text/plain": [
              "<sklearn.metrics._plot.confusion_matrix.ConfusionMatrixDisplay at 0x7f136f04af20>"
            ]
          },
          "metadata": {},
          "execution_count": 153
        },
        {
          "output_type": "display_data",
          "data": {
            "text/plain": [
              "<Figure size 640x480 with 2 Axes>"
            ],
            "image/png": "[encoded data removed]"
          },
          "metadata": {}
        }
      ]
    },
    {
      "cell_type": "code",
      "source": [
        "accuracy = accuracy_score(y_test,y_pred)\n",
        "error_rate = (fp+fn)/ (tp+tn+fp+fn)\n",
        "recall = tp / (tp+fn)\n",
        "true_neg = tn / (tn+fp)\n",
        "precision = tp/ (fp+tp)\n",
        "false_pos = fp / (tn + fp)\n",
        "\n",
        "\n",
        "print(classification_report(y_test, y_pred))\n",
        "\n",
        "\n",
        "print(accuracy, error_rate, recall, true_neg, precision, false_pos)"
      ],
      "metadata": {
        "colab": {
          "base_uri": "https://localhost:8080/"
        },
        "id": "DLi6_L8GhGsF",
        "outputId": "b98843b7-2105-4c90-cc63-838fb904b0ac"
      },
      "execution_count": 154,
      "outputs": [
        {
          "output_type": "stream",
          "name": "stdout",
          "text": [
            "              precision    recall  f1-score   support\n",
            "\n",
            "           0       0.88      0.94      0.91        52\n",
            "           1       0.88      0.75      0.81        28\n",
            "\n",
            "    accuracy                           0.88        80\n",
            "   macro avg       0.88      0.85      0.86        80\n",
            "weighted avg       0.88      0.88      0.87        80\n",
            "\n",
            "0.875 0.125 0.75 0.9423076923076923 0.875 0.057692307692307696\n"
          ]
        }
      ]
    },
    {
      "cell_type": "code",
      "source": [],
      "metadata": {
        "id": "Iz-xJ3JskPx5"
      },
      "execution_count": 154,
      "outputs": []
    }
  ]
}